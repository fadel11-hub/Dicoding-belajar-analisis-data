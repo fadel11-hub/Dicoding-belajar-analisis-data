{
  "cells": [
    {
      "cell_type": "markdown",
      "metadata": {
        "id": "TYsLtpwuEQ8N"
      },
      "source": [
        "# Gathering data"
      ]
    },
    {
      "cell_type": "markdown",
      "metadata": {
        "id": "zyCg7TYXEQ8P"
      },
      "source": [
        "## Prepare library"
      ]
    },
    {
      "cell_type": "code",
      "execution_count": 1,
      "metadata": {
        "id": "CZE0F4CmEQ8P"
      },
      "outputs": [],
      "source": [
        "import pandas as pd\n",
        "import sqlalchemy as sqla"
      ]
    },
    {
      "cell_type": "markdown",
      "metadata": {
        "id": "59nNJAtZEQ8Q"
      },
      "source": [
        "## Format berkas CSV\n"
      ]
    },
    {
      "cell_type": "code",
      "source": [
        "df = pd.read_csv(\"data.csv\", delimiter=',')\n"
      ],
      "metadata": {
        "id": "DWZsDi-ZEtb1"
      },
      "execution_count": null,
      "outputs": []
    },
    {
      "cell_type": "markdown",
      "source": [
        "# Format berkas XLSX atau XLS"
      ],
      "metadata": {
        "id": "_HiZOl8PE1vs"
      }
    },
    {
      "cell_type": "code",
      "execution_count": null,
      "metadata": {
        "id": "uFiECMyoEQ8Q"
      },
      "outputs": [],
      "source": [
        "df = pd.read_excel(\"data.xlsx\", sheet_name='Sheet1')"
      ]
    },
    {
      "cell_type": "markdown",
      "source": [],
      "metadata": {
        "id": "YxNM3TiUE4St"
      }
    },
    {
      "cell_type": "markdown",
      "source": [
        "# Format berkas JSON\n"
      ],
      "metadata": {
        "id": "_e5Zo_sVE3_5"
      }
    },
    {
      "cell_type": "code",
      "execution_count": null,
      "metadata": {
        "id": "VQFg6162EQ8Q"
      },
      "outputs": [],
      "source": [
        "df = pd.read_json('data.json')\n"
      ]
    },
    {
      "cell_type": "markdown",
      "source": [
        "# Format berkas HTML\n"
      ],
      "metadata": {
        "id": "Y28dciJSFbY4"
      }
    },
    {
      "cell_type": "code",
      "execution_count": null,
      "metadata": {
        "id": "1Ks_xRjtEQ8R"
      },
      "outputs": [],
      "source": [
        "url = \"https://www.fdic.gov/resources/resolutions/bank-failures/failed-bank-list\"\n",
        "df = pd.read_html(url)[0]"
      ]
    },
    {
      "cell_type": "markdown",
      "source": [
        "# Format berkas XML\n"
      ],
      "metadata": {
        "id": "9F3cxzI-FrxK"
      }
    },
    {
      "cell_type": "code",
      "execution_count": null,
      "metadata": {
        "id": "0Xhko5m2EQ8R"
      },
      "outputs": [],
      "source": [
        "df = pd.read_xml(\"https://www.w3schools.com/xml/books.xml\")\n"
      ]
    },
    {
      "cell_type": "markdown",
      "source": [
        "# Akses data dari SQL database\n"
      ],
      "metadata": {
        "id": "j6keQZxgFt-K"
      }
    },
    {
      "cell_type": "code",
      "execution_count": null,
      "metadata": {
        "id": "snXpCA2hEQ8R"
      },
      "outputs": [],
      "source": [
        "# read_sql_table()untuk membaca SQL database table dan mempresentasikannya ke dalam bentuk pandas DataFrame.\n",
        "db = sqla.create_engine(\"sqlite:///mydata.sqlite\")\n",
        "pd.read_sql_table(\"table_name\", db)\n",
        "\n",
        "# read_sql_query()untuk membaca SQL query dan mempresentasikannya ke dalam bentuk pandas DataFrame.\n",
        "db = sqla.create_engine(\"sqlite:///mydata.sqlite\")\n",
        "pd.read_sql_query(\"SELECT * FROM table_name\", db)\n",
        "\n",
        "# read_sql()untuk membaca SQL query atau table dan mempresentasikannya ke dalam bentuk pandas DataFrame.\n",
        "db = sqla.create_engine(\"sqlite:///mydata.sqlite\")\n",
        "pd.read_sql(\"SELECT * FROM table_name\", db)"
      ]
    },
    {
      "cell_type": "markdown",
      "source": [
        "# Menggabungkan Beberapa Data Menjadi Satu DataFrame\n"
      ],
      "metadata": {
        "id": "znFXyzdWGAlR"
      }
    },
    {
      "cell_type": "code",
      "source": [
        "product_df = pd.read_csv(\"product.csv\")\n",
        "orders_df = pd.read_csv(\"orders.csv\")\n",
        "\n",
        "new_order_df = pd.merge(\n",
        "    left=product_df,\n",
        "    right=orders_df,\n",
        "    how=\"inner\",\n",
        "    left_on=\"product_id\",\n",
        "    right_on=\"product_id\"\n",
        ")"
      ],
      "metadata": {
        "id": "ANv_APwPGCPQ"
      },
      "execution_count": null,
      "outputs": []
    }
  ],
  "metadata": {
    "kernelspec": {
      "display_name": "Python 3",
      "language": "python",
      "name": "python3"
    },
    "language_info": {
      "codemirror_mode": {
        "name": "ipython",
        "version": 3
      },
      "file_extension": ".py",
      "mimetype": "text/x-python",
      "name": "python",
      "nbconvert_exporter": "python",
      "pygments_lexer": "ipython3",
      "version": "3.8.0"
    },
    "colab": {
      "provenance": []
    }
  },
  "nbformat": 4,
  "nbformat_minor": 0
}