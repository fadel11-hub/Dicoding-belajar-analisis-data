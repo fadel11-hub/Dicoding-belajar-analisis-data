{
  "cells": [
    {
      "cell_type": "markdown",
      "metadata": {
        "id": "view-in-github",
        "colab_type": "text"
      },
      "source": [
        "<a href=\"https://colab.research.google.com/github/fadel11-hub/Dicoding-belajar-analisis-data/blob/main/gatheringdata.ipynb\" target=\"_parent\"><img src=\"https://colab.research.google.com/assets/colab-badge.svg\" alt=\"Open In Colab\"/></a>"
      ]
    },
    {
      "cell_type": "markdown",
      "metadata": {
        "id": "TYsLtpwuEQ8N"
      },
      "source": [
        "# Gathering data"
      ]
    },
    {
      "cell_type": "markdown",
      "metadata": {
        "id": "zyCg7TYXEQ8P"
      },
      "source": [
        "## Prepare library"
      ]
    },
    {
      "cell_type": "code",
      "execution_count": null,
      "metadata": {
        "id": "CZE0F4CmEQ8P"
      },
      "outputs": [],
      "source": [
        "import pandas as pd\n",
        "import sqlalchemy as sqla"
      ]
    },
    {
      "cell_type": "markdown",
      "metadata": {
        "id": "59nNJAtZEQ8Q"
      },
      "source": [
        "## Format berkas CSV\n"
      ]
    },
    {
      "cell_type": "code",
      "source": [
        "df = pd.read_csv(\"data.csv\", delimiter=',')\n"
      ],
      "metadata": {
        "id": "DWZsDi-ZEtb1"
      },
      "execution_count": null,
      "outputs": []
    },
    {
      "cell_type": "markdown",
      "source": [
        "## Format berkas XLSX atau XLS"
      ],
      "metadata": {
        "id": "_HiZOl8PE1vs"
      }
    },
    {
      "cell_type": "code",
      "execution_count": null,
      "metadata": {
        "id": "uFiECMyoEQ8Q"
      },
      "outputs": [],
      "source": [
        "df = pd.read_excel(\"data.xlsx\", sheet_name='Sheet1')"
      ]
    },
    {
      "cell_type": "markdown",
      "source": [],
      "metadata": {
        "id": "YxNM3TiUE4St"
      }
    },
    {
      "cell_type": "markdown",
      "source": [
        "## Format berkas JSON\n"
      ],
      "metadata": {
        "id": "_e5Zo_sVE3_5"
      }
    },
    {
      "cell_type": "code",
      "execution_count": null,
      "metadata": {
        "id": "VQFg6162EQ8Q"
      },
      "outputs": [],
      "source": [
        "df = pd.read_json('data.json')\n"
      ]
    },
    {
      "cell_type": "markdown",
      "source": [
        "## Format berkas HTML\n"
      ],
      "metadata": {
        "id": "Y28dciJSFbY4"
      }
    },
    {
      "cell_type": "code",
      "execution_count": null,
      "metadata": {
        "id": "1Ks_xRjtEQ8R"
      },
      "outputs": [],
      "source": [
        "url = \"https://www.fdic.gov/resources/resolutions/bank-failures/failed-bank-list\"\n",
        "df = pd.read_html(url)[0]"
      ]
    },
    {
      "cell_type": "markdown",
      "source": [
        "## Format berkas XML\n"
      ],
      "metadata": {
        "id": "9F3cxzI-FrxK"
      }
    },
    {
      "cell_type": "code",
      "execution_count": null,
      "metadata": {
        "id": "0Xhko5m2EQ8R"
      },
      "outputs": [],
      "source": [
        "df = pd.read_xml(\"https://www.w3schools.com/xml/books.xml\")\n"
      ]
    },
    {
      "cell_type": "markdown",
      "source": [
        "## Akses data dari SQL database\n"
      ],
      "metadata": {
        "id": "j6keQZxgFt-K"
      }
    },
    {
      "cell_type": "code",
      "execution_count": null,
      "metadata": {
        "id": "snXpCA2hEQ8R"
      },
      "outputs": [],
      "source": [
        "# read_sql_table()untuk membaca SQL database table dan mempresentasikannya ke dalam bentuk pandas DataFrame.\n",
        "db = sqla.create_engine(\"sqlite:///mydata.sqlite\")\n",
        "pd.read_sql_table(\"table_name\", db)\n",
        "\n",
        "# read_sql_query()untuk membaca SQL query dan mempresentasikannya ke dalam bentuk pandas DataFrame.\n",
        "db = sqla.create_engine(\"sqlite:///mydata.sqlite\")\n",
        "pd.read_sql_query(\"SELECT * FROM table_name\", db)\n",
        "\n",
        "# read_sql()untuk membaca SQL query atau table dan mempresentasikannya ke dalam bentuk pandas DataFrame.\n",
        "db = sqla.create_engine(\"sqlite:///mydata.sqlite\")\n",
        "pd.read_sql(\"SELECT * FROM table_name\", db)"
      ]
    },
    {
      "cell_type": "markdown",
      "source": [
        "## Menggabungkan Beberapa Data Menjadi Satu DataFrame\n"
      ],
      "metadata": {
        "id": "znFXyzdWGAlR"
      }
    },
    {
      "cell_type": "code",
      "source": [
        "product_df = pd.read_csv(\"product.csv\")\n",
        "orders_df = pd.read_csv(\"orders.csv\")\n",
        "\n",
        "new_order_df = pd.merge(\n",
        "    left=product_df,\n",
        "    right=orders_df,\n",
        "    how=\"inner\",\n",
        "    left_on=\"product_id\",\n",
        "    right_on=\"product_id\"\n",
        ")"
      ],
      "metadata": {
        "id": "ANv_APwPGCPQ"
      },
      "execution_count": null,
      "outputs": []
    },
    {
      "cell_type": "markdown",
      "source": [
        "# Assesing data"
      ],
      "metadata": {
        "id": "634xfVw0GHzd"
      }
    },
    {
      "cell_type": "markdown",
      "source": [
        "##Missing value\n",
        "\n",
        "\n",
        "karena adanya data yang hilang"
      ],
      "metadata": {
        "id": "lwVTj0PEGT03"
      }
    },
    {
      "cell_type": "code",
      "source": [
        "import pandas as pd\n",
        "product_df = pd.read_csv(\"product.csv\")\n",
        "# sebuah method bernama isnull() atau isna() untuk mengidentifikasi missing value dalam sebuah DataFrame.\n",
        "product_df.isnull().sum()"
      ],
      "metadata": {
        "id": "Ht63KfgjGPff"
      },
      "execution_count": null,
      "outputs": []
    },
    {
      "cell_type": "markdown",
      "source": [
        "## Duplicated data\n",
        "\n",
        "adanya data yang sama pada baris/kolom\n"
      ],
      "metadata": {
        "id": "QAw4R0MOGmiy"
      }
    },
    {
      "cell_type": "code",
      "source": [
        "import pandas as pd\n",
        "\n",
        "url = \"https://www.fdic.gov/resources/resolutions/bank-failures/failed-bank-list\"\n",
        "df = pd.read_html(url)[0]\n",
        "df.duplicated().sum()"
      ],
      "metadata": {
        "id": "s4NZHo9pGiAC"
      },
      "execution_count": null,
      "outputs": []
    },
    {
      "cell_type": "markdown",
      "source": [
        "## Outlier\n",
        "\n",
        " pencilan merupakan titik data yang berada sangat jauh dari titik data yang lain dalam sebuah dataset.\n",
        "\n",
        "\n",
        " **Method IQR**\n",
        " QR method merupakan metode penentuan outlier berdasarkan nilai interquartile range (IQR). Ia mengidentifikasi outlier dengan cara membuat nilai cut-off sebagai faktor k (Umumnya kita menggunakan nilai 1.5 s/d 3) dari nilai IQR. Cut-off tersebut selanjutnya akan digunakan untuk menghitung nilai ambang batas (boundary values). Nilai tersebut dibagi menjadi dua yaitu ambang batas minimum dan maksimum. Semua titik data lebih kecil dari ambang batas minimum atau lebih besar dari ambang batas maksimum akan dianggap sebagai outlier."
      ],
      "metadata": {
        "id": "VUnBo53mGyl5"
      }
    },
    {
      "cell_type": "markdown",
      "source": [
        "**Metode lain Box plot**\n",
        "Ia merupakan bentuk visual untuk merepresentasikan nilai IQR beserta ambang batas bawah dan atas dari sebuah data."
      ],
      "metadata": {
        "id": "jQDb1sZyHKb5"
      }
    },
    {
      "cell_type": "code",
      "source": [
        "import numpy as np\n",
        "\n",
        "q25, q75 = np.percentile(data, 25), np.percentile(data, 75)\n",
        "iqr = q75 - q25\n",
        "cut_off = iqr * 1.5\n",
        "minimum, maximum = q25 - cut_off, q75 + cut_off\n",
        "\n",
        "outliers = [x for x in data if x < minimum or x > maximum]"
      ],
      "metadata": {
        "id": "TX0W2KALG3gj"
      },
      "execution_count": null,
      "outputs": []
    },
    {
      "cell_type": "markdown",
      "source": [
        "# Cleaning data"
      ],
      "metadata": {
        "id": "upkpB0cJHTkS"
      }
    },
    {
      "cell_type": "markdown",
      "source": [
        "## Teknik untuk Mengatasi Missing Value\n"
      ],
      "metadata": {
        "id": "uynewyMGHX12"
      }
    },
    {
      "cell_type": "markdown",
      "source": [
        "### Dropping"
      ],
      "metadata": {
        "id": "Yiqo9hwgJ-dN"
      }
    },
    {
      "cell_type": "code",
      "source": [
        "import pandas as pd\n",
        "\n",
        "products_df = pd.read_csv(\"product.csv\")\n",
        "\n",
        "products_df.dropna(axis=0, inplace=True)"
      ],
      "metadata": {
        "id": "tyaU-hWzHWI3"
      },
      "execution_count": null,
      "outputs": []
    },
    {
      "cell_type": "markdown",
      "source": [
        "Pada contoh kode di atas, parameter **axis=0** (menerima nilai 0 atau 1) menandakan kita ingin men-drop seluruh baris yang mengandung missing value. **inplace=True** menandakan kita ingin langsung menerapkan operasi tersebut ke dalam DataFrame products_df.\n",
        "\n",
        "Anda dapat membaca dokumentasi berikut untuk lebih memahami penggunaan method ini: pandas.DataFrame.dropna.\n"
      ],
      "metadata": {
        "id": "h9tCG1pTKCRp"
      }
    },
    {
      "cell_type": "markdown",
      "source": [
        "### imputation"
      ],
      "metadata": {
        "id": "lpsyfUIeKT1y"
      }
    },
    {
      "cell_type": "markdown",
      "source": [
        "Metode ini bekerja dengan cara mengisi (fill) missing value dengan nilai tertentu. Hal ini tentunya akan mencegah hilangnya informasi akibat missing value.\n",
        "\n",
        "Pada data kontinu, kita bisa menggunakan nilai mean, median, atau mode sebagai pengganti missing value. Jika bekerja menggunakan data kategoris, kita dapat mengisi missing value dengan kategori yang paling sering muncul. Namun, perlu diingat bahwa pemilihan nilai pengganti ini harus didukung oleh background knowledge dari data tersebut. Pada beberapa kasus ada suatu nilai tertentu yang digunakan untuk mengganti missing value."
      ],
      "metadata": {
        "id": "ia1H195xKXsN"
      }
    },
    {
      "cell_type": "code",
      "source": [
        "import pandas as pd\n",
        "\n",
        "data=pd.read_csv('employee_data.csv')\n",
        "\n",
        "data.age.fillna(value=data.age.mean(), inplace=True)"
      ],
      "metadata": {
        "id": "pTu99wpUKPb4"
      },
      "execution_count": null,
      "outputs": []
    },
    {
      "cell_type": "markdown",
      "source": [
        "Nah, jika Anda perhatikan metode ini masih memiliki banyak kekurangan salah satunya ialah dapat mempengaruhi variance atau sebaran dari sebuah data. Selain itu, metode ini juga masih belum cukup baik untuk diterapkan pada data time series.\n"
      ],
      "metadata": {
        "id": "4bB9eaZOKfPg"
      }
    },
    {
      "cell_type": "markdown",
      "source": [
        "### Interpolation\n",
        "interpolasi merupakan salah satu pendekatan numerik yang digunakan untuk menghitung titik data baru berdasarkan range data yang sudah ada. Perhitungan ini menggunakan sebuah persamaan garis linear ataupun polynomial. Perhitungan tersebut membuat metode ini sangat cocok digunakan untuk menangani missing value pada **data time series**."
      ],
      "metadata": {
        "id": "wN5OVJMSKiZf"
      }
    },
    {
      "cell_type": "code",
      "source": [
        "import pandas as pd\n",
        "\n",
        "data=pd.read_csv('bbca_index.csv')\n",
        "\n",
        "data.close_price.interpolate(method='linear', limit_direction='forward', inplace=True)"
      ],
      "metadata": {
        "id": "2ZpW0WC2KezR"
      },
      "execution_count": null,
      "outputs": []
    },
    {
      "cell_type": "markdown",
      "source": [
        " kita perlu mendefinisikan metode interpolasi yang ingin digunakan, seperti linear, polynomial, dll. Selain itu, kita juga perlu mendefinisikan parameter limit_direction (forward, backward, dan both) untuk menspesifikkan arah konstruktif dari proses interpolasi. Berikut merupakan contoh kode untuk menggunakan method interpolate()."
      ],
      "metadata": {
        "id": "X3zMYMfJKvDD"
      }
    },
    {
      "cell_type": "markdown",
      "source": [
        "## Teknik untuk Mengatasi Outlier\n"
      ],
      "metadata": {
        "id": "qVeJ7aG4Kwou"
      }
    },
    {
      "cell_type": "markdown",
      "source": [
        "###Drop\n",
        "\n",
        "Metode pertama yang paling mudah ialah men-drop atau menghapus seluruh baris yang mengandung outlier. Metode ini mampu mencegah outlier mempengaruhi hasil analisis yang kita buat.\n"
      ],
      "metadata": {
        "id": "-59AORFnKyXx"
      }
    },
    {
      "cell_type": "code",
      "source": [
        "import pandas as pd\n",
        "\n",
        "df = pd.read_csv(\"data.csv\")\n",
        "\n",
        "Q1 = (df['TotalCharges']).quantile(0.25)\n",
        "Q3 = (df['TotalCharges']).quantile(0.75)\n",
        "IQR = Q3 - Q1\n",
        "\n",
        "maximum = Q3 + (1.5*IQR)\n",
        "minimum = Q1 - (1.5*IQR)\n",
        "\n",
        "kondisi_lower_than = df['TotalCharges'] < minimum\n",
        "kondisi_more_than = df['TotalCharges'] > maximum\n",
        "\n",
        "df.drop(df[kondisi_lower_than].index, inplace=True)\n",
        "df.drop(df[kondisi_more_than].index, inplace=True)"
      ],
      "metadata": {
        "id": "znpPPtDGK2Tu"
      },
      "execution_count": null,
      "outputs": []
    },
    {
      "cell_type": "markdown",
      "source": [
        "###Imputation\n",
        "\n",
        "Konsepnya mirip seperti sebelumnya yaitu mengganti outlier dengan nilai tertentu. Nilai yang bisa kita gunakan ialah mean, median, dan mode. Selain itu, tidak jarang juga kita mengganti outlier dengan boundary value."
      ],
      "metadata": {
        "id": "Q8qxh6O1K4x8"
      }
    },
    {
      "cell_type": "code",
      "source": [
        "df = pd.read_csv(\"data.csv\")\n",
        "\n",
        "Q1 = (df['TotalCharges']).quantile(0.25)\n",
        "Q3 = (df['TotalCharges']).quantile(0.75)\n",
        "IQR = Q3 - Q1\n",
        "\n",
        "maximum = Q3 + (1.5*IQR)\n",
        "minimum = Q1 - (1.5*IQR)\n",
        "\n",
        "kondisi_lower_than = df['TotalCharges'] < minimum\n",
        "kondisi_more_than = df['TotalCharges'] > maximum\n",
        "\n",
        "df.mask(cond=kondisi_more_than, maximum, axis=1, inplace=True)\n",
        "df.mask(cond=kondisi_lower_than, minimum, axis=1, inplace=True)"
      ],
      "metadata": {
        "id": "VIvpV_MEK-Sa"
      },
      "execution_count": null,
      "outputs": []
    },
    {
      "cell_type": "markdown",
      "source": [
        "Untuk menerapkan metode ini, kita bisa menggunakan method mask() yang disediakan oleh library pandas. Method tersebut menerima parameter cond sebagai kondisi untuk memfilter nilai outlier. Berikut merupakan contoh kode untuk melakukannya.\n"
      ],
      "metadata": {
        "id": "XK1hT8SALCNq"
      }
    },
    {
      "cell_type": "markdown",
      "source": [
        "## Teknik untuk Mengatasi Duplicate Data\n"
      ],
      "metadata": {
        "id": "qUfpzl41LDNJ"
      }
    },
    {
      "cell_type": "markdown",
      "source": [
        "Untungnya, library pandas telah menyediakan sebuah method drop_duplicates() untuk menghilangkan duplikasi dalam sebuah DataFrame. Berikut merupakan contoh kode untuk menggunakan method tersebut.\n",
        "\n"
      ],
      "metadata": {
        "id": "347qA0u9LHk_"
      }
    },
    {
      "cell_type": "code",
      "source": [
        "import pandas as pd\n",
        "\n",
        "df = pd.read_csv(\"data.csv\")\n",
        "df.drop_duplicates(inplace=True)"
      ],
      "metadata": {
        "id": "bZAo8UsrLIHJ"
      },
      "execution_count": null,
      "outputs": []
    }
  ],
  "metadata": {
    "kernelspec": {
      "display_name": "Python 3",
      "language": "python",
      "name": "python3"
    },
    "language_info": {
      "codemirror_mode": {
        "name": "ipython",
        "version": 3
      },
      "file_extension": ".py",
      "mimetype": "text/x-python",
      "name": "python",
      "nbconvert_exporter": "python",
      "pygments_lexer": "ipython3",
      "version": "3.8.0"
    },
    "colab": {
      "provenance": [],
      "toc_visible": true,
      "include_colab_link": true
    }
  },
  "nbformat": 4,
  "nbformat_minor": 0
}